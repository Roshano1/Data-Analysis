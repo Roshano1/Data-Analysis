{
  "nbformat": 4,
  "nbformat_minor": 0,
  "metadata": {
    "colab": {
      "provenance": [],
      "authorship_tag": "ABX9TyOqm59CkUzWX6rOrX1qgefB",
      "include_colab_link": true
    },
    "kernelspec": {
      "name": "python3",
      "display_name": "Python 3"
    },
    "language_info": {
      "name": "python"
    }
  },
  "cells": [
    {
      "cell_type": "markdown",
      "metadata": {
        "id": "view-in-github",
        "colab_type": "text"
      },
      "source": [
        "<a href=\"https://colab.research.google.com/github/Roshano1/Data-Analysis/blob/main/Untitled0.ipynb\" target=\"_parent\"><img src=\"https://colab.research.google.com/assets/colab-badge.svg\" alt=\"Open In Colab\"/></a>"
      ]
    },
    {
      "cell_type": "code",
      "source": [
        "import pandas as pd\n",
        "\n",
        "# Load data from a CSV file\n",
        "data = pd.read_csv('/content/sample_data/california_housing_train.csv')\n",
        "\n",
        "# Preview the first few rows of the data\n",
        "print(data.head())\n"
      ],
      "metadata": {
        "colab": {
          "base_uri": "https://localhost:8080/"
        },
        "id": "SPNniMmKTz3L",
        "outputId": "a64417fc-79e9-4be4-fc29-6b7abed5460b"
      },
      "execution_count": 2,
      "outputs": [
        {
          "output_type": "stream",
          "name": "stdout",
          "text": [
            "   longitude  latitude  housing_median_age  total_rooms  total_bedrooms  \\\n",
            "0    -114.31     34.19                15.0       5612.0          1283.0   \n",
            "1    -114.47     34.40                19.0       7650.0          1901.0   \n",
            "2    -114.56     33.69                17.0        720.0           174.0   \n",
            "3    -114.57     33.64                14.0       1501.0           337.0   \n",
            "4    -114.57     33.57                20.0       1454.0           326.0   \n",
            "\n",
            "   population  households  median_income  median_house_value  \n",
            "0      1015.0       472.0         1.4936             66900.0  \n",
            "1      1129.0       463.0         1.8200             80100.0  \n",
            "2       333.0       117.0         1.6509             85700.0  \n",
            "3       515.0       226.0         3.1917             73400.0  \n",
            "4       624.0       262.0         1.9250             65500.0  \n"
          ]
        }
      ]
    },
    {
      "cell_type": "code",
      "source": [
        "import pandas as pd\n",
        "\n",
        "# Load data from a CSV file\n",
        "data = pd.read_csv('/content/sample_data/california_housing_train.csv')\n",
        "\n",
        "# Create a pivot table\n",
        "pivot_table = pd.pivot_table(data,index='households', values='median_house_value', aggfunc='sum')\n",
        "\n",
        "# Display the pivot table\n",
        "print(pivot_table)\n"
      ],
      "metadata": {
        "colab": {
          "base_uri": "https://localhost:8080/"
        },
        "id": "vboRuSslVgJd",
        "outputId": "78fc57a9-06da-402e-96f3-3a0f7c4a1320"
      },
      "execution_count": 15,
      "outputs": [
        {
          "output_type": "stream",
          "name": "stdout",
          "text": [
            "            median_house_value\n",
            "households                    \n",
            "1.0                   500001.0\n",
            "2.0                   300000.0\n",
            "3.0                   392500.0\n",
            "4.0                  1625001.0\n",
            "5.0                  1470001.0\n",
            "...                        ...\n",
            "4616.0                103400.0\n",
            "4769.0                134400.0\n",
            "5050.0                253900.0\n",
            "5189.0                366300.0\n",
            "6082.0                118800.0\n",
            "\n",
            "[1740 rows x 1 columns]\n"
          ]
        }
      ]
    },
    {
      "cell_type": "code",
      "source": [
        "import pandas as pd\n",
        "import numpy as np\n",
        "\n",
        "# Create a sample DataFrame\n",
        "df = pd.DataFrame({\n",
        "    'X': ['A', 'B', 'A', 'B'],\n",
        "    'A': [1, 2, 3, 4],\n",
        "    'B': [5, 6, 7, 8],\n",
        "    'C': [9, 10, 11, 12]\n",
        "})\n",
        "\n",
        "# Create a pivot table with two aggfunc functions\n",
        "pivot_table = pd.pivot_table(df, values=['A', 'B', 'C'], index=['X'], aggfunc=[np.sum, np.mean])\n",
        "\n",
        "# Display the pivot table\n",
        "print(pivot_table)\n"
      ],
      "metadata": {
        "colab": {
          "base_uri": "https://localhost:8080/"
        },
        "id": "roMouvJ-VrQg",
        "outputId": "3c5e847a-bd2f-4eab-8205-176af7d19eb3"
      },
      "execution_count": 16,
      "outputs": [
        {
          "output_type": "stream",
          "name": "stdout",
          "text": [
            "  sum         mean       \n",
            "    A   B   C    A  B   C\n",
            "X                        \n",
            "A   4  12  20    2  6  10\n",
            "B   6  14  22    3  7  11\n"
          ]
        }
      ]
    },
    {
      "cell_type": "code",
      "source": [],
      "metadata": {
        "id": "DnkFchkNY61z"
      },
      "execution_count": null,
      "outputs": []
    }
  ]
}