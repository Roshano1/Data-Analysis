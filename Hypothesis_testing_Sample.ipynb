{
  "nbformat": 4,
  "nbformat_minor": 0,
  "metadata": {
    "colab": {
      "provenance": [],
      "authorship_tag": "ABX9TyO1tLYgT1yEVuDhcjpAVZeX",
      "include_colab_link": true
    },
    "kernelspec": {
      "name": "python3",
      "display_name": "Python 3"
    },
    "language_info": {
      "name": "python"
    }
  },
  "cells": [
    {
      "cell_type": "markdown",
      "metadata": {
        "id": "view-in-github",
        "colab_type": "text"
      },
      "source": [
        "<a href=\"https://colab.research.google.com/github/Roshano1/Data-Analysis/blob/main/Hypothesis_testing_Sample.ipynb\" target=\"_parent\"><img src=\"https://colab.research.google.com/assets/colab-badge.svg\" alt=\"Open In Colab\"/></a>"
      ]
    },
    {
      "cell_type": "code",
      "execution_count": 1,
      "metadata": {
        "colab": {
          "base_uri": "https://localhost:8080/"
        },
        "id": "0eaqiFtIXSt7",
        "outputId": "07d2f3f1-9c8c-436c-a0d6-e550b0040067"
      },
      "outputs": [
        {
          "output_type": "stream",
          "name": "stdout",
          "text": [
            "T-statistic: 16.155494421403507\n",
            "P-value: 4.879021789982158e-16\n"
          ]
        }
      ],
      "source": [
        "import numpy as np\n",
        "from scipy import stats\n",
        "\n",
        "# Sample data - brightness levels before and after applying the filter\n",
        "brightness_before = np.array([10, 12, 11, 13, 9, 10, 11, 12, 10, 11, 9, 10, 11, 13, 12, 11, 10, 9, 12, 11, 10, 12, 11, 13, 10, 11, 9, 12, 11, 10])\n",
        "brightness_after = np.array([11, 14, 12, 15, 10, 11, 12, 13, 11, 12, 10, 11, 12, 14, 13, 12, 11, 10, 14, 12, 11, 14, 12, 15, 11, 12, 10, 14, 12, 11])\n",
        "\n",
        "# Paired t-test\n",
        "t_statistic, p_value = stats.ttest_rel(brightness_after, brightness_before)\n",
        "\n",
        "# Output the results\n",
        "print(\"T-statistic:\", t_statistic)\n",
        "print(\"P-value:\", p_value)\n"
      ]
    },
    {
      "cell_type": "code",
      "source": [],
      "metadata": {
        "id": "rck754XyXUqW"
      },
      "execution_count": null,
      "outputs": []
    }
  ]
}